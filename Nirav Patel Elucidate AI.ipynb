{
 "cells": [
  {
   "cell_type": "code",
   "execution_count": 2,
   "id": "9d3e3ed1",
   "metadata": {},
   "outputs": [],
   "source": [
    "import numpy as np\n",
    "import pandas as pd"
   ]
  },
  {
   "cell_type": "code",
   "execution_count": 2,
   "id": "0f115733",
   "metadata": {},
   "outputs": [],
   "source": [
    "campaigns = pd.read_csv('ExportCampaigns.csv')\n",
    "sales = pd.read_csv('ExportSales.csv', low_memory = False)\n",
    "customer_data = pd.read_csv('ExportCustomerData.csv', low_memory = False)\n",
    "cd_history_detail = pd.read_csv('ExportCustomerDataHistoryDetail.csv', low_memory = False)"
   ]
  },
  {
   "cell_type": "code",
   "execution_count": 3,
   "id": "bcc0da5a",
   "metadata": {},
   "outputs": [
    {
     "data": {
      "text/html": [
       "<div>\n",
       "<style scoped>\n",
       "    .dataframe tbody tr th:only-of-type {\n",
       "        vertical-align: middle;\n",
       "    }\n",
       "\n",
       "    .dataframe tbody tr th {\n",
       "        vertical-align: top;\n",
       "    }\n",
       "\n",
       "    .dataframe thead th {\n",
       "        text-align: right;\n",
       "    }\n",
       "</style>\n",
       "<table border=\"1\" class=\"dataframe\">\n",
       "  <thead>\n",
       "    <tr style=\"text-align: right;\">\n",
       "      <th></th>\n",
       "      <th>CampaignID</th>\n",
       "      <th>Campaign_Type</th>\n",
       "      <th>ListSegment</th>\n",
       "      <th>Product_Version</th>\n",
       "      <th>ImportedDate</th>\n",
       "    </tr>\n",
       "  </thead>\n",
       "  <tbody>\n",
       "    <tr>\n",
       "      <th>0</th>\n",
       "      <td>B7270</td>\n",
       "      <td>Acquisition</td>\n",
       "      <td>2</td>\n",
       "      <td>PA</td>\n",
       "      <td>NaN</td>\n",
       "    </tr>\n",
       "    <tr>\n",
       "      <th>1</th>\n",
       "      <td>B7386</td>\n",
       "      <td>Acquisition</td>\n",
       "      <td>1</td>\n",
       "      <td>PA</td>\n",
       "      <td>NaN</td>\n",
       "    </tr>\n",
       "    <tr>\n",
       "      <th>2</th>\n",
       "      <td>B7387</td>\n",
       "      <td>Acquisition</td>\n",
       "      <td>1</td>\n",
       "      <td>PA</td>\n",
       "      <td>NaN</td>\n",
       "    </tr>\n",
       "    <tr>\n",
       "      <th>3</th>\n",
       "      <td>B7391</td>\n",
       "      <td>X Sell</td>\n",
       "      <td>1</td>\n",
       "      <td>PA</td>\n",
       "      <td>NaN</td>\n",
       "    </tr>\n",
       "    <tr>\n",
       "      <th>4</th>\n",
       "      <td>B7432</td>\n",
       "      <td>Acquisition</td>\n",
       "      <td>2</td>\n",
       "      <td>PA</td>\n",
       "      <td>NaN</td>\n",
       "    </tr>\n",
       "  </tbody>\n",
       "</table>\n",
       "</div>"
      ],
      "text/plain": [
       "  CampaignID Campaign_Type  ListSegment Product_Version ImportedDate\n",
       "0      B7270   Acquisition            2              PA          NaN\n",
       "1      B7386   Acquisition            1              PA          NaN\n",
       "2      B7387   Acquisition            1              PA          NaN\n",
       "3      B7391        X Sell            1              PA          NaN\n",
       "4      B7432   Acquisition            2              PA          NaN"
      ]
     },
     "execution_count": 3,
     "metadata": {},
     "output_type": "execute_result"
    }
   ],
   "source": [
    "campaigns.head()"
   ]
  },
  {
   "cell_type": "code",
   "execution_count": 4,
   "id": "3ad03f68",
   "metadata": {},
   "outputs": [
    {
     "data": {
      "text/plain": [
       "CampaignID         False\n",
       "Campaign_Type      False\n",
       "ListSegment        False\n",
       "Product_Version    False\n",
       "ImportedDate        True\n",
       "dtype: bool"
      ]
     },
     "execution_count": 4,
     "metadata": {},
     "output_type": "execute_result"
    }
   ],
   "source": [
    "campaigns.isnull().any()"
   ]
  },
  {
   "cell_type": "code",
   "execution_count": 5,
   "id": "e7e63161",
   "metadata": {},
   "outputs": [
    {
     "name": "stdout",
     "output_type": "stream",
     "text": [
      "99\n",
      "(102, 5)\n"
     ]
    }
   ],
   "source": [
    "print(campaigns[\"ImportedDate\"].isnull().sum())\n",
    "print(campaigns.shape)"
   ]
  },
  {
   "cell_type": "code",
   "execution_count": 6,
   "id": "3d4cd5bd",
   "metadata": {},
   "outputs": [],
   "source": [
    "campaigns['ImportedDate'] = campaigns['ImportedDate'].fillna(0)"
   ]
  },
  {
   "cell_type": "code",
   "execution_count": 7,
   "id": "20505d5b",
   "metadata": {},
   "outputs": [
    {
     "data": {
      "text/plain": [
       "0            0\n",
       "1            0\n",
       "2            0\n",
       "3            0\n",
       "4            0\n",
       "        ...   \n",
       "97           0\n",
       "98           0\n",
       "99           0\n",
       "100    46:08.3\n",
       "101    46:08.3\n",
       "Name: ImportedDate, Length: 102, dtype: object"
      ]
     },
     "execution_count": 7,
     "metadata": {},
     "output_type": "execute_result"
    }
   ],
   "source": [
    "campaigns['ImportedDate']"
   ]
  },
  {
   "cell_type": "code",
   "execution_count": 8,
   "id": "166d716d",
   "metadata": {},
   "outputs": [],
   "source": [
    "campaigns = pd.DataFrame.drop(campaigns, columns = \"ImportedDate\")"
   ]
  },
  {
   "cell_type": "code",
   "execution_count": 9,
   "id": "77ded1b7",
   "metadata": {},
   "outputs": [
    {
     "data": {
      "text/plain": [
       "array(['PA'], dtype=object)"
      ]
     },
     "execution_count": 9,
     "metadata": {},
     "output_type": "execute_result"
    }
   ],
   "source": [
    "campaigns[\"Product_Version\"].unique()"
   ]
  },
  {
   "cell_type": "markdown",
   "id": "92946fa1",
   "metadata": {},
   "source": [
    "# ExportCustomerData Dataset"
   ]
  },
  {
   "cell_type": "code",
   "execution_count": 10,
   "id": "cba4898f",
   "metadata": {},
   "outputs": [
    {
     "data": {
      "text/html": [
       "<div>\n",
       "<style scoped>\n",
       "    .dataframe tbody tr th:only-of-type {\n",
       "        vertical-align: middle;\n",
       "    }\n",
       "\n",
       "    .dataframe tbody tr th {\n",
       "        vertical-align: top;\n",
       "    }\n",
       "\n",
       "    .dataframe thead th {\n",
       "        text-align: right;\n",
       "    }\n",
       "</style>\n",
       "<table border=\"1\" class=\"dataframe\">\n",
       "  <thead>\n",
       "    <tr style=\"text-align: right;\">\n",
       "      <th></th>\n",
       "      <th>CampaignID</th>\n",
       "      <th>Cust_ID</th>\n",
       "      <th>Reserved1</th>\n",
       "      <th>Spare2</th>\n",
       "      <th>Client_Title</th>\n",
       "      <th>Client_Surname</th>\n",
       "      <th>ID_No</th>\n",
       "      <th>HomeTelephone</th>\n",
       "      <th>WorkTelephone</th>\n",
       "      <th>Cellphone</th>\n",
       "      <th>Postal_Code</th>\n",
       "      <th>Sex</th>\n",
       "      <th>Lang</th>\n",
       "      <th>Marital_Status</th>\n",
       "      <th>Batch_ID</th>\n",
       "      <th>Media_Code</th>\n",
       "      <th>Age</th>\n",
       "      <th>PresentedLang</th>\n",
       "      <th>ImportedDate</th>\n",
       "    </tr>\n",
       "  </thead>\n",
       "  <tbody>\n",
       "    <tr>\n",
       "      <th>0</th>\n",
       "      <td>B7270</td>\n",
       "      <td>4</td>\n",
       "      <td>NaN</td>\n",
       "      <td>NaN</td>\n",
       "      <td>MISS</td>\n",
       "      <td>PIENAAR</td>\n",
       "      <td>775C91B3-392A-4D74-860C-29A4D5189DF6</td>\n",
       "      <td>*******</td>\n",
       "      <td>*******</td>\n",
       "      <td>061*******</td>\n",
       "      <td>8730</td>\n",
       "      <td>F</td>\n",
       "      <td>E</td>\n",
       "      <td>S</td>\n",
       "      <td>NaN</td>\n",
       "      <td>2558.0</td>\n",
       "      <td>26.0</td>\n",
       "      <td>NaN</td>\n",
       "      <td>NaN</td>\n",
       "    </tr>\n",
       "    <tr>\n",
       "      <th>1</th>\n",
       "      <td>B7270</td>\n",
       "      <td>5</td>\n",
       "      <td>NaN</td>\n",
       "      <td>NaN</td>\n",
       "      <td>MRS</td>\n",
       "      <td>TIMMY</td>\n",
       "      <td>0284B24B-AD78-4A35-A975-900990B58427</td>\n",
       "      <td>*******</td>\n",
       "      <td>*******</td>\n",
       "      <td>073*******</td>\n",
       "      <td>7530</td>\n",
       "      <td>F</td>\n",
       "      <td>NaN</td>\n",
       "      <td>M</td>\n",
       "      <td>NaN</td>\n",
       "      <td>2559.0</td>\n",
       "      <td>27.0</td>\n",
       "      <td>NaN</td>\n",
       "      <td>NaN</td>\n",
       "    </tr>\n",
       "    <tr>\n",
       "      <th>2</th>\n",
       "      <td>B7270</td>\n",
       "      <td>6</td>\n",
       "      <td>NaN</td>\n",
       "      <td>NaN</td>\n",
       "      <td>MISS</td>\n",
       "      <td>NGCOBO</td>\n",
       "      <td>CF7FD54D-4BD3-4B82-AFFC-8CBAB0308E12</td>\n",
       "      <td>*******</td>\n",
       "      <td>*******</td>\n",
       "      <td>071*******</td>\n",
       "      <td>4225</td>\n",
       "      <td>F</td>\n",
       "      <td>E</td>\n",
       "      <td>S</td>\n",
       "      <td>NaN</td>\n",
       "      <td>2558.0</td>\n",
       "      <td>29.0</td>\n",
       "      <td>NaN</td>\n",
       "      <td>NaN</td>\n",
       "    </tr>\n",
       "    <tr>\n",
       "      <th>3</th>\n",
       "      <td>B7270</td>\n",
       "      <td>7</td>\n",
       "      <td>NaN</td>\n",
       "      <td>NaN</td>\n",
       "      <td>MS</td>\n",
       "      <td>SHABANGU</td>\n",
       "      <td>6B03A449-9DFF-4D6F-B01C-43E8F3EAA2A1</td>\n",
       "      <td>060*******</td>\n",
       "      <td>060*******</td>\n",
       "      <td>079*******</td>\n",
       "      <td>1520</td>\n",
       "      <td>F</td>\n",
       "      <td>Z</td>\n",
       "      <td>S</td>\n",
       "      <td>2.0</td>\n",
       "      <td>2558.0</td>\n",
       "      <td>27.0</td>\n",
       "      <td>NaN</td>\n",
       "      <td>NaN</td>\n",
       "    </tr>\n",
       "    <tr>\n",
       "      <th>4</th>\n",
       "      <td>B7270</td>\n",
       "      <td>8</td>\n",
       "      <td>NaN</td>\n",
       "      <td>NaN</td>\n",
       "      <td>MISS</td>\n",
       "      <td>MCHUNU</td>\n",
       "      <td>7ACF7758-730E-48A5-B11B-C5AE76DFE788</td>\n",
       "      <td>*******</td>\n",
       "      <td>*******</td>\n",
       "      <td>071*******</td>\n",
       "      <td>3610</td>\n",
       "      <td>F</td>\n",
       "      <td>Z</td>\n",
       "      <td>S</td>\n",
       "      <td>2.0</td>\n",
       "      <td>2558.0</td>\n",
       "      <td>27.0</td>\n",
       "      <td>NaN</td>\n",
       "      <td>NaN</td>\n",
       "    </tr>\n",
       "    <tr>\n",
       "      <th>5</th>\n",
       "      <td>B7270</td>\n",
       "      <td>9</td>\n",
       "      <td>NaN</td>\n",
       "      <td>NaN</td>\n",
       "      <td>MRS</td>\n",
       "      <td>MADIHLABA</td>\n",
       "      <td>1AB05275-405E-49DF-93B2-90DBD9569377</td>\n",
       "      <td>*******</td>\n",
       "      <td>*******</td>\n",
       "      <td>078*******</td>\n",
       "      <td>0194</td>\n",
       "      <td>F</td>\n",
       "      <td>E</td>\n",
       "      <td>S</td>\n",
       "      <td>2.0</td>\n",
       "      <td>2559.0</td>\n",
       "      <td>40.0</td>\n",
       "      <td>NaN</td>\n",
       "      <td>NaN</td>\n",
       "    </tr>\n",
       "    <tr>\n",
       "      <th>6</th>\n",
       "      <td>B7270</td>\n",
       "      <td>10</td>\n",
       "      <td>NaN</td>\n",
       "      <td>NaN</td>\n",
       "      <td>MRS</td>\n",
       "      <td>MUKWEVHO</td>\n",
       "      <td>BEBF7073-6555-48B9-B274-4CF8225EBB51</td>\n",
       "      <td>*******</td>\n",
       "      <td>079*******</td>\n",
       "      <td>*******</td>\n",
       "      <td>1754</td>\n",
       "      <td>F</td>\n",
       "      <td>NaN</td>\n",
       "      <td>M</td>\n",
       "      <td>2.0</td>\n",
       "      <td>2559.0</td>\n",
       "      <td>31.0</td>\n",
       "      <td>NaN</td>\n",
       "      <td>NaN</td>\n",
       "    </tr>\n",
       "    <tr>\n",
       "      <th>7</th>\n",
       "      <td>B7270</td>\n",
       "      <td>11</td>\n",
       "      <td>NaN</td>\n",
       "      <td>NaN</td>\n",
       "      <td>MISS</td>\n",
       "      <td>DHLAMINI</td>\n",
       "      <td>DD91E373-B3EE-4D13-8DDA-59CFCCF26AC8</td>\n",
       "      <td>*******</td>\n",
       "      <td>*******</td>\n",
       "      <td>072*******</td>\n",
       "      <td>1035</td>\n",
       "      <td>F</td>\n",
       "      <td>E</td>\n",
       "      <td>S</td>\n",
       "      <td>2.0</td>\n",
       "      <td>2559.0</td>\n",
       "      <td>27.0</td>\n",
       "      <td>NaN</td>\n",
       "      <td>NaN</td>\n",
       "    </tr>\n",
       "    <tr>\n",
       "      <th>8</th>\n",
       "      <td>B7270</td>\n",
       "      <td>12</td>\n",
       "      <td>NaN</td>\n",
       "      <td>NaN</td>\n",
       "      <td>MISS</td>\n",
       "      <td>PETERSEN</td>\n",
       "      <td>855F4846-484A-461C-B300-BE9B96DA67D7</td>\n",
       "      <td>*******</td>\n",
       "      <td>*******</td>\n",
       "      <td>074*******</td>\n",
       "      <td>7945</td>\n",
       "      <td>F</td>\n",
       "      <td>E</td>\n",
       "      <td>S</td>\n",
       "      <td>3.0</td>\n",
       "      <td>2558.0</td>\n",
       "      <td>23.0</td>\n",
       "      <td>NaN</td>\n",
       "      <td>NaN</td>\n",
       "    </tr>\n",
       "    <tr>\n",
       "      <th>9</th>\n",
       "      <td>B7270</td>\n",
       "      <td>13</td>\n",
       "      <td>NaN</td>\n",
       "      <td>NaN</td>\n",
       "      <td>MISS</td>\n",
       "      <td>TENGE</td>\n",
       "      <td>D26DED63-0BAF-4278-9592-877132FE807A</td>\n",
       "      <td>*******</td>\n",
       "      <td>*******</td>\n",
       "      <td>078*******</td>\n",
       "      <td>1818</td>\n",
       "      <td>F</td>\n",
       "      <td>E</td>\n",
       "      <td>S</td>\n",
       "      <td>2.0</td>\n",
       "      <td>2558.0</td>\n",
       "      <td>22.0</td>\n",
       "      <td>NaN</td>\n",
       "      <td>NaN</td>\n",
       "    </tr>\n",
       "    <tr>\n",
       "      <th>10</th>\n",
       "      <td>B7270</td>\n",
       "      <td>14</td>\n",
       "      <td>NaN</td>\n",
       "      <td>NaN</td>\n",
       "      <td>MISS</td>\n",
       "      <td>HENDRICKS</td>\n",
       "      <td>37E72C63-DB8C-4FD0-B1FC-8DF0118E4C82</td>\n",
       "      <td>*******</td>\n",
       "      <td>*******</td>\n",
       "      <td>078*******</td>\n",
       "      <td>7785</td>\n",
       "      <td>F</td>\n",
       "      <td>E</td>\n",
       "      <td>S</td>\n",
       "      <td>4.0</td>\n",
       "      <td>2559.0</td>\n",
       "      <td>29.0</td>\n",
       "      <td>NaN</td>\n",
       "      <td>NaN</td>\n",
       "    </tr>\n",
       "    <tr>\n",
       "      <th>11</th>\n",
       "      <td>B7270</td>\n",
       "      <td>15</td>\n",
       "      <td>NaN</td>\n",
       "      <td>NaN</td>\n",
       "      <td>MISS</td>\n",
       "      <td>KHUMALO</td>\n",
       "      <td>75AFD604-DEF6-43AB-9DC2-4BCB04AAB0D9</td>\n",
       "      <td>*******</td>\n",
       "      <td>*******</td>\n",
       "      <td>073*******</td>\n",
       "      <td>4001</td>\n",
       "      <td>F</td>\n",
       "      <td>E</td>\n",
       "      <td>S</td>\n",
       "      <td>2.0</td>\n",
       "      <td>2558.0</td>\n",
       "      <td>23.0</td>\n",
       "      <td>NaN</td>\n",
       "      <td>NaN</td>\n",
       "    </tr>\n",
       "    <tr>\n",
       "      <th>12</th>\n",
       "      <td>B7270</td>\n",
       "      <td>16</td>\n",
       "      <td>NaN</td>\n",
       "      <td>NaN</td>\n",
       "      <td>MR</td>\n",
       "      <td>ADAMS</td>\n",
       "      <td>43FB61A2-7FD3-4568-87A0-9F61820F773E</td>\n",
       "      <td>*******</td>\n",
       "      <td>*******</td>\n",
       "      <td>062*******</td>\n",
       "      <td>6059</td>\n",
       "      <td>M</td>\n",
       "      <td>E</td>\n",
       "      <td>S</td>\n",
       "      <td>2.0</td>\n",
       "      <td>2558.0</td>\n",
       "      <td>26.0</td>\n",
       "      <td>NaN</td>\n",
       "      <td>NaN</td>\n",
       "    </tr>\n",
       "    <tr>\n",
       "      <th>13</th>\n",
       "      <td>B7270</td>\n",
       "      <td>17</td>\n",
       "      <td>NaN</td>\n",
       "      <td>NaN</td>\n",
       "      <td>MR</td>\n",
       "      <td>MKHABELA</td>\n",
       "      <td>5030CB31-52ED-4D5C-8C3E-591F8593E0F1</td>\n",
       "      <td>*******</td>\n",
       "      <td>*******</td>\n",
       "      <td>072*******</td>\n",
       "      <td>2280</td>\n",
       "      <td>M</td>\n",
       "      <td>E</td>\n",
       "      <td>S</td>\n",
       "      <td>3.0</td>\n",
       "      <td>2559.0</td>\n",
       "      <td>24.0</td>\n",
       "      <td>NaN</td>\n",
       "      <td>NaN</td>\n",
       "    </tr>\n",
       "    <tr>\n",
       "      <th>14</th>\n",
       "      <td>B7270</td>\n",
       "      <td>18</td>\n",
       "      <td>NaN</td>\n",
       "      <td>X_StopSMS</td>\n",
       "      <td>MISS</td>\n",
       "      <td>SMITH</td>\n",
       "      <td>155BDA8B-D2FB-4953-B1D6-CD18EC5E26C4</td>\n",
       "      <td>*******</td>\n",
       "      <td>*******</td>\n",
       "      <td>083*******</td>\n",
       "      <td>2158</td>\n",
       "      <td>F</td>\n",
       "      <td>NaN</td>\n",
       "      <td>S</td>\n",
       "      <td>4.0</td>\n",
       "      <td>2558.0</td>\n",
       "      <td>28.0</td>\n",
       "      <td>NaN</td>\n",
       "      <td>NaN</td>\n",
       "    </tr>\n",
       "    <tr>\n",
       "      <th>15</th>\n",
       "      <td>B7270</td>\n",
       "      <td>19</td>\n",
       "      <td>NaN</td>\n",
       "      <td>NaN</td>\n",
       "      <td>MS</td>\n",
       "      <td>MOGABALADI</td>\n",
       "      <td>84053C58-2493-4560-BCD6-2BA6F586F0FE</td>\n",
       "      <td>*******</td>\n",
       "      <td>*******</td>\n",
       "      <td>063*******</td>\n",
       "      <td>0338</td>\n",
       "      <td>F</td>\n",
       "      <td>E</td>\n",
       "      <td>S</td>\n",
       "      <td>1.0</td>\n",
       "      <td>2558.0</td>\n",
       "      <td>26.0</td>\n",
       "      <td>NaN</td>\n",
       "      <td>NaN</td>\n",
       "    </tr>\n",
       "    <tr>\n",
       "      <th>16</th>\n",
       "      <td>B7270</td>\n",
       "      <td>20</td>\n",
       "      <td>NaN</td>\n",
       "      <td>NaN</td>\n",
       "      <td>MR</td>\n",
       "      <td>FORTUIN</td>\n",
       "      <td>7F72DEE1-FD47-4B28-AB27-68D95EFF99F2</td>\n",
       "      <td>*******</td>\n",
       "      <td>*******</td>\n",
       "      <td>078*******</td>\n",
       "      <td>6970</td>\n",
       "      <td>M</td>\n",
       "      <td>E</td>\n",
       "      <td>S</td>\n",
       "      <td>3.0</td>\n",
       "      <td>2559.0</td>\n",
       "      <td>32.0</td>\n",
       "      <td>NaN</td>\n",
       "      <td>NaN</td>\n",
       "    </tr>\n",
       "    <tr>\n",
       "      <th>17</th>\n",
       "      <td>B7270</td>\n",
       "      <td>21</td>\n",
       "      <td>NaN</td>\n",
       "      <td>NaN</td>\n",
       "      <td>MR</td>\n",
       "      <td>MOTLOUNG</td>\n",
       "      <td>B5DD5E32-96F6-41E0-8755-50AD62A32C00</td>\n",
       "      <td>*******</td>\n",
       "      <td>*******</td>\n",
       "      <td>078*******</td>\n",
       "      <td>1441</td>\n",
       "      <td>M</td>\n",
       "      <td>NaN</td>\n",
       "      <td>NaN</td>\n",
       "      <td>3.0</td>\n",
       "      <td>2559.0</td>\n",
       "      <td>31.0</td>\n",
       "      <td>NaN</td>\n",
       "      <td>NaN</td>\n",
       "    </tr>\n",
       "    <tr>\n",
       "      <th>18</th>\n",
       "      <td>B7270</td>\n",
       "      <td>22</td>\n",
       "      <td>NaN</td>\n",
       "      <td>NaN</td>\n",
       "      <td>MR</td>\n",
       "      <td>MYEZA</td>\n",
       "      <td>403ED25C-B261-40A6-9F39-CE2F2DCA8AF2</td>\n",
       "      <td>*******</td>\n",
       "      <td>*******</td>\n",
       "      <td>082*******</td>\n",
       "      <td>2094</td>\n",
       "      <td>M</td>\n",
       "      <td>E</td>\n",
       "      <td>S</td>\n",
       "      <td>2.0</td>\n",
       "      <td>2559.0</td>\n",
       "      <td>31.0</td>\n",
       "      <td>NaN</td>\n",
       "      <td>NaN</td>\n",
       "    </tr>\n",
       "    <tr>\n",
       "      <th>19</th>\n",
       "      <td>B7270</td>\n",
       "      <td>23</td>\n",
       "      <td>NaN</td>\n",
       "      <td>NaN</td>\n",
       "      <td>MR</td>\n",
       "      <td>MOEMA</td>\n",
       "      <td>306081DD-09BB-44B7-B1E1-84B5EDA519C2</td>\n",
       "      <td>*******</td>\n",
       "      <td>*******</td>\n",
       "      <td>082*******</td>\n",
       "      <td>2001</td>\n",
       "      <td>M</td>\n",
       "      <td>NaN</td>\n",
       "      <td>S</td>\n",
       "      <td>4.0</td>\n",
       "      <td>2558.0</td>\n",
       "      <td>27.0</td>\n",
       "      <td>NaN</td>\n",
       "      <td>NaN</td>\n",
       "    </tr>\n",
       "  </tbody>\n",
       "</table>\n",
       "</div>"
      ],
      "text/plain": [
       "   CampaignID  Cust_ID Reserved1     Spare2 Client_Title Client_Surname  \\\n",
       "0       B7270        4       NaN        NaN         MISS        PIENAAR   \n",
       "1       B7270        5       NaN        NaN          MRS          TIMMY   \n",
       "2       B7270        6       NaN        NaN         MISS         NGCOBO   \n",
       "3       B7270        7       NaN        NaN           MS       SHABANGU   \n",
       "4       B7270        8       NaN        NaN         MISS         MCHUNU   \n",
       "5       B7270        9       NaN        NaN          MRS      MADIHLABA   \n",
       "6       B7270       10       NaN        NaN          MRS       MUKWEVHO   \n",
       "7       B7270       11       NaN        NaN         MISS       DHLAMINI   \n",
       "8       B7270       12       NaN        NaN         MISS       PETERSEN   \n",
       "9       B7270       13       NaN        NaN         MISS          TENGE   \n",
       "10      B7270       14       NaN        NaN         MISS      HENDRICKS   \n",
       "11      B7270       15       NaN        NaN         MISS        KHUMALO   \n",
       "12      B7270       16       NaN        NaN           MR          ADAMS   \n",
       "13      B7270       17       NaN        NaN           MR       MKHABELA   \n",
       "14      B7270       18       NaN  X_StopSMS         MISS          SMITH   \n",
       "15      B7270       19       NaN        NaN           MS     MOGABALADI   \n",
       "16      B7270       20       NaN        NaN           MR        FORTUIN   \n",
       "17      B7270       21       NaN        NaN           MR       MOTLOUNG   \n",
       "18      B7270       22       NaN        NaN           MR          MYEZA   \n",
       "19      B7270       23       NaN        NaN           MR          MOEMA   \n",
       "\n",
       "                                   ID_No HomeTelephone WorkTelephone  \\\n",
       "0   775C91B3-392A-4D74-860C-29A4D5189DF6       *******       *******   \n",
       "1   0284B24B-AD78-4A35-A975-900990B58427       *******       *******   \n",
       "2   CF7FD54D-4BD3-4B82-AFFC-8CBAB0308E12       *******       *******   \n",
       "3   6B03A449-9DFF-4D6F-B01C-43E8F3EAA2A1    060*******    060*******   \n",
       "4   7ACF7758-730E-48A5-B11B-C5AE76DFE788       *******       *******   \n",
       "5   1AB05275-405E-49DF-93B2-90DBD9569377       *******       *******   \n",
       "6   BEBF7073-6555-48B9-B274-4CF8225EBB51       *******    079*******   \n",
       "7   DD91E373-B3EE-4D13-8DDA-59CFCCF26AC8       *******       *******   \n",
       "8   855F4846-484A-461C-B300-BE9B96DA67D7       *******       *******   \n",
       "9   D26DED63-0BAF-4278-9592-877132FE807A       *******       *******   \n",
       "10  37E72C63-DB8C-4FD0-B1FC-8DF0118E4C82       *******       *******   \n",
       "11  75AFD604-DEF6-43AB-9DC2-4BCB04AAB0D9       *******       *******   \n",
       "12  43FB61A2-7FD3-4568-87A0-9F61820F773E       *******       *******   \n",
       "13  5030CB31-52ED-4D5C-8C3E-591F8593E0F1       *******       *******   \n",
       "14  155BDA8B-D2FB-4953-B1D6-CD18EC5E26C4       *******       *******   \n",
       "15  84053C58-2493-4560-BCD6-2BA6F586F0FE       *******       *******   \n",
       "16  7F72DEE1-FD47-4B28-AB27-68D95EFF99F2       *******       *******   \n",
       "17  B5DD5E32-96F6-41E0-8755-50AD62A32C00       *******       *******   \n",
       "18  403ED25C-B261-40A6-9F39-CE2F2DCA8AF2       *******       *******   \n",
       "19  306081DD-09BB-44B7-B1E1-84B5EDA519C2       *******       *******   \n",
       "\n",
       "     Cellphone Postal_Code Sex Lang Marital_Status  Batch_ID  Media_Code  \\\n",
       "0   061*******        8730   F    E              S       NaN      2558.0   \n",
       "1   073*******        7530   F  NaN              M       NaN      2559.0   \n",
       "2   071*******        4225   F    E              S       NaN      2558.0   \n",
       "3   079*******        1520   F    Z              S       2.0      2558.0   \n",
       "4   071*******        3610   F    Z              S       2.0      2558.0   \n",
       "5   078*******        0194   F    E              S       2.0      2559.0   \n",
       "6      *******        1754   F  NaN              M       2.0      2559.0   \n",
       "7   072*******        1035   F    E              S       2.0      2559.0   \n",
       "8   074*******        7945   F    E              S       3.0      2558.0   \n",
       "9   078*******        1818   F    E              S       2.0      2558.0   \n",
       "10  078*******        7785   F    E              S       4.0      2559.0   \n",
       "11  073*******        4001   F    E              S       2.0      2558.0   \n",
       "12  062*******        6059   M    E              S       2.0      2558.0   \n",
       "13  072*******        2280   M    E              S       3.0      2559.0   \n",
       "14  083*******        2158   F  NaN              S       4.0      2558.0   \n",
       "15  063*******        0338   F    E              S       1.0      2558.0   \n",
       "16  078*******        6970   M    E              S       3.0      2559.0   \n",
       "17  078*******        1441   M  NaN            NaN       3.0      2559.0   \n",
       "18  082*******        2094   M    E              S       2.0      2559.0   \n",
       "19  082*******        2001   M  NaN              S       4.0      2558.0   \n",
       "\n",
       "     Age PresentedLang ImportedDate  \n",
       "0   26.0           NaN          NaN  \n",
       "1   27.0           NaN          NaN  \n",
       "2   29.0           NaN          NaN  \n",
       "3   27.0           NaN          NaN  \n",
       "4   27.0           NaN          NaN  \n",
       "5   40.0           NaN          NaN  \n",
       "6   31.0           NaN          NaN  \n",
       "7   27.0           NaN          NaN  \n",
       "8   23.0           NaN          NaN  \n",
       "9   22.0           NaN          NaN  \n",
       "10  29.0           NaN          NaN  \n",
       "11  23.0           NaN          NaN  \n",
       "12  26.0           NaN          NaN  \n",
       "13  24.0           NaN          NaN  \n",
       "14  28.0           NaN          NaN  \n",
       "15  26.0           NaN          NaN  \n",
       "16  32.0           NaN          NaN  \n",
       "17  31.0           NaN          NaN  \n",
       "18  31.0           NaN          NaN  \n",
       "19  27.0           NaN          NaN  "
      ]
     },
     "execution_count": 10,
     "metadata": {},
     "output_type": "execute_result"
    }
   ],
   "source": [
    "customer_data.head(20)"
   ]
  },
  {
   "cell_type": "code",
   "execution_count": 11,
   "id": "d9397b2c",
   "metadata": {},
   "outputs": [
    {
     "data": {
      "text/plain": [
       "CampaignID              0\n",
       "Cust_ID                 0\n",
       "Reserved1         4423753\n",
       "Spare2            4135016\n",
       "Client_Title           83\n",
       "Client_Surname         64\n",
       "ID_No                   0\n",
       "HomeTelephone           0\n",
       "WorkTelephone           0\n",
       "Cellphone               0\n",
       "Postal_Code         33402\n",
       "Sex                   160\n",
       "Lang                28772\n",
       "Marital_Status    4451842\n",
       "Batch_ID          1191832\n",
       "Media_Code          42889\n",
       "Age                   160\n",
       "PresentedLang     4436409\n",
       "ImportedDate      4614428\n",
       "dtype: int64"
      ]
     },
     "execution_count": 11,
     "metadata": {},
     "output_type": "execute_result"
    }
   ],
   "source": [
    "customer_data.isnull().sum()"
   ]
  },
  {
   "cell_type": "code",
   "execution_count": 12,
   "id": "46c0d734",
   "metadata": {},
   "outputs": [
    {
     "data": {
      "text/plain": [
       "(4733545, 19)"
      ]
     },
     "execution_count": 12,
     "metadata": {},
     "output_type": "execute_result"
    }
   ],
   "source": [
    "customer_data.shape"
   ]
  },
  {
   "cell_type": "code",
   "execution_count": 13,
   "id": "000055ed",
   "metadata": {},
   "outputs": [],
   "source": [
    "# the title of clients is not important, and marital_status is mostly empty, as are presentedLang and ImportedDate \n",
    "customer_data = pd.DataFrame.drop(customer_data, columns = [\"Client_Title\", \"Marital_Status\", \"PresentedLang\", \"ImportedDate\"])"
   ]
  },
  {
   "cell_type": "code",
   "execution_count": 14,
   "id": "791f2640",
   "metadata": {},
   "outputs": [],
   "source": [
    "# dropped telephone numbers and media_code because it didn't seem important to me to analyze by the phone numbers\n",
    "# also, media_code is client defined, which can lead to external bias and can't really help us in our analysis\n",
    "\n",
    "customer_data = pd.DataFrame.drop(customer_data, columns = [\"HomeTelephone\", \"WorkTelephone\", \"Cellphone\", \"Media_Code\"])"
   ]
  },
  {
   "cell_type": "code",
   "execution_count": 15,
   "id": "0bfd7298",
   "metadata": {},
   "outputs": [],
   "source": [
    "customer_data[\"Client_Surname\"] = customer_data[\"Client_Surname\"].str.lower()"
   ]
  },
  {
   "cell_type": "code",
   "execution_count": 16,
   "id": "18c3cb17",
   "metadata": {},
   "outputs": [],
   "source": [
    "customer_data[\"Client_Surname\"] = customer_data[\"Client_Surname\"].str.capitalize()"
   ]
  },
  {
   "cell_type": "code",
   "execution_count": 44,
   "id": "82b895de",
   "metadata": {},
   "outputs": [],
   "source": [
    "customer_data = pd.DataFrame.drop(customer_data, columns = \"Client_Surname\")"
   ]
  },
  {
   "cell_type": "code",
   "execution_count": 17,
   "id": "bf56bee4",
   "metadata": {},
   "outputs": [
    {
     "name": "stdout",
     "output_type": "stream",
     "text": [
      "(4733545, 11)\n",
      "(0, 11)\n"
     ]
    }
   ],
   "source": [
    "print(customer_data.shape)\n",
    "duplicate_rows_customer_data = customer_data[customer_data.duplicated()]\n",
    "\n",
    "print(duplicate_rows_customer_data.shape)"
   ]
  },
  {
   "cell_type": "code",
   "execution_count": 18,
   "id": "87f91a60",
   "metadata": {},
   "outputs": [],
   "source": [
    "# no duplicate rows that we need to worry about"
   ]
  },
  {
   "cell_type": "code",
   "execution_count": 19,
   "id": "c5e9073a",
   "metadata": {},
   "outputs": [
    {
     "data": {
      "text/plain": [
       "array(['F', 'M', nan], dtype=object)"
      ]
     },
     "execution_count": 19,
     "metadata": {},
     "output_type": "execute_result"
    }
   ],
   "source": [
    "customer_data[\"Sex\"].unique()"
   ]
  },
  {
   "cell_type": "code",
   "execution_count": 20,
   "id": "fce2624c",
   "metadata": {},
   "outputs": [],
   "source": [
    "customer_data[\"Sex\"] = customer_data[\"Sex\"].replace(np.nan, \"Other\")"
   ]
  },
  {
   "cell_type": "code",
   "execution_count": 21,
   "id": "fde14e36",
   "metadata": {},
   "outputs": [
    {
     "data": {
      "text/plain": [
       "array(['F', 'M', 'Other'], dtype=object)"
      ]
     },
     "execution_count": 21,
     "metadata": {},
     "output_type": "execute_result"
    }
   ],
   "source": [
    "customer_data[\"Sex\"].unique()"
   ]
  },
  {
   "cell_type": "code",
   "execution_count": 22,
   "id": "2469a3ec",
   "metadata": {},
   "outputs": [
    {
     "data": {
      "text/plain": [
       "CampaignID              0\n",
       "Cust_ID                 0\n",
       "Reserved1         4423753\n",
       "Spare2            4135016\n",
       "Client_Surname         64\n",
       "ID_No                   0\n",
       "Postal_Code         33402\n",
       "Sex                     0\n",
       "Lang                28772\n",
       "Batch_ID          1191832\n",
       "Age                   160\n",
       "dtype: int64"
      ]
     },
     "execution_count": 22,
     "metadata": {},
     "output_type": "execute_result"
    }
   ],
   "source": [
    "customer_data.isnull().sum()"
   ]
  },
  {
   "cell_type": "code",
   "execution_count": 23,
   "id": "19afcfbb",
   "metadata": {},
   "outputs": [
    {
     "data": {
      "text/plain": [
       "array([26., 27., 29., 40., 31., 23., 22., 24., 28., 32., 25., 33., 38.,\n",
       "       37., 35., 34., 36., 39., 20., 21., 30., 41., 54., 47., 53., 49.,\n",
       "       46., 50., 56., 44., 60., 58., 52., 59., 43., 63., 62., 45., 55.,\n",
       "       61., 64., 42., 57., 51., 19., 48., 18., 65., 72., nan])"
      ]
     },
     "execution_count": 23,
     "metadata": {},
     "output_type": "execute_result"
    }
   ],
   "source": [
    "customer_data[\"Age\"].unique()"
   ]
  },
  {
   "cell_type": "code",
   "execution_count": 38,
   "id": "21154b01",
   "metadata": {},
   "outputs": [
    {
     "data": {
      "text/plain": [
       "array([        4,         5,         6, ..., 500000018, 500000019,\n",
       "       500000020], dtype=int64)"
      ]
     },
     "execution_count": 38,
     "metadata": {},
     "output_type": "execute_result"
    }
   ],
   "source": [
    "customer_data[\"Cust_ID\"].unique()"
   ]
  },
  {
   "cell_type": "code",
   "execution_count": 45,
   "id": "8934ba4b",
   "metadata": {},
   "outputs": [
    {
     "data": {
      "text/html": [
       "<div>\n",
       "<style scoped>\n",
       "    .dataframe tbody tr th:only-of-type {\n",
       "        vertical-align: middle;\n",
       "    }\n",
       "\n",
       "    .dataframe tbody tr th {\n",
       "        vertical-align: top;\n",
       "    }\n",
       "\n",
       "    .dataframe thead th {\n",
       "        text-align: right;\n",
       "    }\n",
       "</style>\n",
       "<table border=\"1\" class=\"dataframe\">\n",
       "  <thead>\n",
       "    <tr style=\"text-align: right;\">\n",
       "      <th></th>\n",
       "      <th>CampaignID</th>\n",
       "      <th>Cust_ID</th>\n",
       "      <th>Reserved1</th>\n",
       "      <th>Spare2</th>\n",
       "      <th>ID_No</th>\n",
       "      <th>Postal_Code</th>\n",
       "      <th>Sex</th>\n",
       "      <th>Lang</th>\n",
       "      <th>Batch_ID</th>\n",
       "      <th>Age</th>\n",
       "    </tr>\n",
       "  </thead>\n",
       "  <tbody>\n",
       "    <tr>\n",
       "      <th>0</th>\n",
       "      <td>B7270</td>\n",
       "      <td>4</td>\n",
       "      <td>NaN</td>\n",
       "      <td>NaN</td>\n",
       "      <td>775C91B3-392A-4D74-860C-29A4D5189DF6</td>\n",
       "      <td>8730</td>\n",
       "      <td>F</td>\n",
       "      <td>E</td>\n",
       "      <td>NaN</td>\n",
       "      <td>26.0</td>\n",
       "    </tr>\n",
       "    <tr>\n",
       "      <th>1</th>\n",
       "      <td>B7270</td>\n",
       "      <td>5</td>\n",
       "      <td>NaN</td>\n",
       "      <td>NaN</td>\n",
       "      <td>0284B24B-AD78-4A35-A975-900990B58427</td>\n",
       "      <td>7530</td>\n",
       "      <td>F</td>\n",
       "      <td>NaN</td>\n",
       "      <td>NaN</td>\n",
       "      <td>27.0</td>\n",
       "    </tr>\n",
       "    <tr>\n",
       "      <th>2</th>\n",
       "      <td>B7270</td>\n",
       "      <td>6</td>\n",
       "      <td>NaN</td>\n",
       "      <td>NaN</td>\n",
       "      <td>CF7FD54D-4BD3-4B82-AFFC-8CBAB0308E12</td>\n",
       "      <td>4225</td>\n",
       "      <td>F</td>\n",
       "      <td>E</td>\n",
       "      <td>NaN</td>\n",
       "      <td>29.0</td>\n",
       "    </tr>\n",
       "    <tr>\n",
       "      <th>3</th>\n",
       "      <td>B7270</td>\n",
       "      <td>7</td>\n",
       "      <td>NaN</td>\n",
       "      <td>NaN</td>\n",
       "      <td>6B03A449-9DFF-4D6F-B01C-43E8F3EAA2A1</td>\n",
       "      <td>1520</td>\n",
       "      <td>F</td>\n",
       "      <td>Z</td>\n",
       "      <td>2.0</td>\n",
       "      <td>27.0</td>\n",
       "    </tr>\n",
       "    <tr>\n",
       "      <th>4</th>\n",
       "      <td>B7270</td>\n",
       "      <td>8</td>\n",
       "      <td>NaN</td>\n",
       "      <td>NaN</td>\n",
       "      <td>7ACF7758-730E-48A5-B11B-C5AE76DFE788</td>\n",
       "      <td>3610</td>\n",
       "      <td>F</td>\n",
       "      <td>Z</td>\n",
       "      <td>2.0</td>\n",
       "      <td>27.0</td>\n",
       "    </tr>\n",
       "  </tbody>\n",
       "</table>\n",
       "</div>"
      ],
      "text/plain": [
       "  CampaignID  Cust_ID Reserved1 Spare2                                 ID_No  \\\n",
       "0      B7270        4       NaN    NaN  775C91B3-392A-4D74-860C-29A4D5189DF6   \n",
       "1      B7270        5       NaN    NaN  0284B24B-AD78-4A35-A975-900990B58427   \n",
       "2      B7270        6       NaN    NaN  CF7FD54D-4BD3-4B82-AFFC-8CBAB0308E12   \n",
       "3      B7270        7       NaN    NaN  6B03A449-9DFF-4D6F-B01C-43E8F3EAA2A1   \n",
       "4      B7270        8       NaN    NaN  7ACF7758-730E-48A5-B11B-C5AE76DFE788   \n",
       "\n",
       "  Postal_Code Sex Lang  Batch_ID   Age  \n",
       "0        8730   F    E       NaN  26.0  \n",
       "1        7530   F  NaN       NaN  27.0  \n",
       "2        4225   F    E       NaN  29.0  \n",
       "3        1520   F    Z       2.0  27.0  \n",
       "4        3610   F    Z       2.0  27.0  "
      ]
     },
     "execution_count": 45,
     "metadata": {},
     "output_type": "execute_result"
    }
   ],
   "source": [
    "customer_data.head()"
   ]
  },
  {
   "cell_type": "code",
   "execution_count": 49,
   "id": "62ad9d61",
   "metadata": {},
   "outputs": [
    {
     "data": {
      "text/plain": [
       "(4733545, 10)"
      ]
     },
     "execution_count": 49,
     "metadata": {},
     "output_type": "execute_result"
    }
   ],
   "source": [
    "customer_data.shape"
   ]
  },
  {
   "cell_type": "code",
   "execution_count": 50,
   "id": "64ddd85b",
   "metadata": {},
   "outputs": [
    {
     "data": {
      "text/html": [
       "<div>\n",
       "<style scoped>\n",
       "    .dataframe tbody tr th:only-of-type {\n",
       "        vertical-align: middle;\n",
       "    }\n",
       "\n",
       "    .dataframe tbody tr th {\n",
       "        vertical-align: top;\n",
       "    }\n",
       "\n",
       "    .dataframe thead th {\n",
       "        text-align: right;\n",
       "    }\n",
       "</style>\n",
       "<table border=\"1\" class=\"dataframe\">\n",
       "  <thead>\n",
       "    <tr style=\"text-align: right;\">\n",
       "      <th></th>\n",
       "      <th>Cust_ID</th>\n",
       "      <th>Batch_ID</th>\n",
       "      <th>Age</th>\n",
       "    </tr>\n",
       "  </thead>\n",
       "  <tbody>\n",
       "    <tr>\n",
       "      <th>count</th>\n",
       "      <td>4.733545e+06</td>\n",
       "      <td>3.541713e+06</td>\n",
       "      <td>4.733385e+06</td>\n",
       "    </tr>\n",
       "    <tr>\n",
       "      <th>mean</th>\n",
       "      <td>6.124170e+04</td>\n",
       "      <td>1.383465e+01</td>\n",
       "      <td>4.348966e+01</td>\n",
       "    </tr>\n",
       "    <tr>\n",
       "      <th>std</th>\n",
       "      <td>1.164743e+06</td>\n",
       "      <td>1.068799e+01</td>\n",
       "      <td>1.148199e+01</td>\n",
       "    </tr>\n",
       "    <tr>\n",
       "      <th>min</th>\n",
       "      <td>4.000000e+00</td>\n",
       "      <td>1.000000e+00</td>\n",
       "      <td>1.800000e+01</td>\n",
       "    </tr>\n",
       "    <tr>\n",
       "      <th>25%</th>\n",
       "      <td>1.548900e+04</td>\n",
       "      <td>6.000000e+00</td>\n",
       "      <td>3.400000e+01</td>\n",
       "    </tr>\n",
       "    <tr>\n",
       "      <th>50%</th>\n",
       "      <td>3.682400e+04</td>\n",
       "      <td>1.200000e+01</td>\n",
       "      <td>4.300000e+01</td>\n",
       "    </tr>\n",
       "    <tr>\n",
       "      <th>75%</th>\n",
       "      <td>6.700100e+04</td>\n",
       "      <td>1.900000e+01</td>\n",
       "      <td>5.300000e+01</td>\n",
       "    </tr>\n",
       "    <tr>\n",
       "      <th>max</th>\n",
       "      <td>5.000000e+08</td>\n",
       "      <td>5.700000e+01</td>\n",
       "      <td>7.200000e+01</td>\n",
       "    </tr>\n",
       "  </tbody>\n",
       "</table>\n",
       "</div>"
      ],
      "text/plain": [
       "            Cust_ID      Batch_ID           Age\n",
       "count  4.733545e+06  3.541713e+06  4.733385e+06\n",
       "mean   6.124170e+04  1.383465e+01  4.348966e+01\n",
       "std    1.164743e+06  1.068799e+01  1.148199e+01\n",
       "min    4.000000e+00  1.000000e+00  1.800000e+01\n",
       "25%    1.548900e+04  6.000000e+00  3.400000e+01\n",
       "50%    3.682400e+04  1.200000e+01  4.300000e+01\n",
       "75%    6.700100e+04  1.900000e+01  5.300000e+01\n",
       "max    5.000000e+08  5.700000e+01  7.200000e+01"
      ]
     },
     "execution_count": 50,
     "metadata": {},
     "output_type": "execute_result"
    }
   ],
   "source": [
    "customer_data.describe()"
   ]
  },
  {
   "cell_type": "code",
   "execution_count": 52,
   "id": "9fe36b17",
   "metadata": {},
   "outputs": [],
   "source": [
    "customer_data[\"Age\"] = customer_data[\"Age\"].replace(np.nan, \"43\")"
   ]
  },
  {
   "cell_type": "code",
   "execution_count": 54,
   "id": "5e2da458",
   "metadata": {},
   "outputs": [],
   "source": [
    "customer_data[\"Age\"] = pd.to_numeric(customer_data[\"Age\"])"
   ]
  },
  {
   "cell_type": "code",
   "execution_count": 56,
   "id": "0d713fd0",
   "metadata": {},
   "outputs": [
    {
     "data": {
      "text/plain": [
       "CampaignID           0\n",
       "Cust_ID              0\n",
       "Reserved1      4423753\n",
       "Spare2         4135016\n",
       "ID_No                0\n",
       "Postal_Code      33402\n",
       "Sex                  0\n",
       "Lang             28772\n",
       "Batch_ID       1191832\n",
       "Age                  0\n",
       "dtype: int64"
      ]
     },
     "execution_count": 56,
     "metadata": {},
     "output_type": "execute_result"
    }
   ],
   "source": [
    "customer_data.isnull().sum()"
   ]
  },
  {
   "cell_type": "code",
   "execution_count": 57,
   "id": "f3fcd2df",
   "metadata": {},
   "outputs": [],
   "source": [
    "customer_data.to_csv('Clean_ExportCustomerData.csv', index = False)"
   ]
  },
  {
   "cell_type": "markdown",
   "id": "2451c717",
   "metadata": {},
   "source": [
    "# ExportSales Dataset"
   ]
  },
  {
   "cell_type": "code",
   "execution_count": 24,
   "id": "5e15ea7e",
   "metadata": {},
   "outputs": [
    {
     "data": {
      "text/plain": [
       "Index(['CampaignID', 'Cust_id', 'Policy_no', 'Sale_Status', 'Sale_date',\n",
       "       'Verified_Date', 'Not_Sale_Date', 'Emp_ID', 'Client_title',\n",
       "       'Client_Surname', 'ID_No', 'Sex', 'Lang', 'Marital_Status',\n",
       "       'Family_To_Cover', 'Premium', 'Effective_Date', 'Date_of_Debit',\n",
       "       'EMailFulfilment', 'Cover_Amount', 'ImportedDate'],\n",
       "      dtype='object')"
      ]
     },
     "execution_count": 24,
     "metadata": {},
     "output_type": "execute_result"
    }
   ],
   "source": [
    "sales.columns"
   ]
  },
  {
   "cell_type": "code",
   "execution_count": 58,
   "id": "8ca9a792",
   "metadata": {},
   "outputs": [
    {
     "name": "stdout",
     "output_type": "stream",
     "text": [
      "CampaignID         False\n",
      "Cust_id            False\n",
      "Policy_no          False\n",
      "Sale_Status        False\n",
      "Sale_date          False\n",
      "Verified_Date       True\n",
      "Emp_ID             False\n",
      "ID_No              False\n",
      "Sex                False\n",
      "Lang               False\n",
      "Marital_Status     False\n",
      "Family_To_Cover    False\n",
      "Premium            False\n",
      "Effective_Date     False\n",
      "Date_of_Debit       True\n",
      "Cover_Amount        True\n",
      "dtype: bool\n",
      "\n",
      "(152567, 16)\n",
      "CampaignID          object\n",
      "Cust_id              int64\n",
      "Policy_no           object\n",
      "Sale_Status         object\n",
      "Sale_date           object\n",
      "Verified_Date       object\n",
      "Emp_ID               int64\n",
      "ID_No               object\n",
      "Sex                 object\n",
      "Lang                object\n",
      "Marital_Status      object\n",
      "Family_To_Cover     object\n",
      "Premium            float64\n",
      "Effective_Date      object\n",
      "Date_of_Debit       object\n",
      "Cover_Amount       float64\n",
      "dtype: object\n",
      "\n",
      "CampaignID             0\n",
      "Cust_id                0\n",
      "Policy_no              0\n",
      "Sale_Status            0\n",
      "Sale_date              0\n",
      "Verified_Date      31092\n",
      "Emp_ID                 0\n",
      "ID_No                  0\n",
      "Sex                    0\n",
      "Lang                   0\n",
      "Marital_Status         0\n",
      "Family_To_Cover        0\n",
      "Premium                0\n",
      "Effective_Date         0\n",
      "Date_of_Debit         16\n",
      "Cover_Amount        2686\n",
      "dtype: int64\n"
     ]
    }
   ],
   "source": [
    "print(sales.isnull().any())\n",
    "print()\n",
    "print(sales.shape)\n",
    "print(sales.dtypes)\n",
    "print()\n",
    "print(sales.isnull().sum())"
   ]
  },
  {
   "cell_type": "code",
   "execution_count": 26,
   "id": "d9479220",
   "metadata": {},
   "outputs": [
    {
     "data": {
      "text/html": [
       "<div>\n",
       "<style scoped>\n",
       "    .dataframe tbody tr th:only-of-type {\n",
       "        vertical-align: middle;\n",
       "    }\n",
       "\n",
       "    .dataframe tbody tr th {\n",
       "        vertical-align: top;\n",
       "    }\n",
       "\n",
       "    .dataframe thead th {\n",
       "        text-align: right;\n",
       "    }\n",
       "</style>\n",
       "<table border=\"1\" class=\"dataframe\">\n",
       "  <thead>\n",
       "    <tr style=\"text-align: right;\">\n",
       "      <th></th>\n",
       "      <th>CampaignID</th>\n",
       "      <th>Cust_id</th>\n",
       "      <th>Policy_no</th>\n",
       "      <th>Sale_Status</th>\n",
       "      <th>Sale_date</th>\n",
       "      <th>Verified_Date</th>\n",
       "      <th>Emp_ID</th>\n",
       "      <th>ID_No</th>\n",
       "      <th>Sex</th>\n",
       "      <th>Lang</th>\n",
       "      <th>Marital_Status</th>\n",
       "      <th>Family_To_Cover</th>\n",
       "      <th>Premium</th>\n",
       "      <th>Effective_Date</th>\n",
       "      <th>Date_of_Debit</th>\n",
       "      <th>Cover_Amount</th>\n",
       "    </tr>\n",
       "  </thead>\n",
       "  <tbody>\n",
       "    <tr>\n",
       "      <th>0</th>\n",
       "      <td>B7270</td>\n",
       "      <td>4</td>\n",
       "      <td>OKS00000017270</td>\n",
       "      <td>Cancelled</td>\n",
       "      <td>53:25.1</td>\n",
       "      <td>NaN</td>\n",
       "      <td>13439</td>\n",
       "      <td>775C91B3-392A-4D74-860C-29A4D5189DF6</td>\n",
       "      <td>F</td>\n",
       "      <td>E</td>\n",
       "      <td>S</td>\n",
       "      <td>Individual Only</td>\n",
       "      <td>59.0</td>\n",
       "      <td>00:00.0</td>\n",
       "      <td>00:00.0</td>\n",
       "      <td>150000.0</td>\n",
       "    </tr>\n",
       "    <tr>\n",
       "      <th>1</th>\n",
       "      <td>B7270</td>\n",
       "      <td>5</td>\n",
       "      <td>OKS00000027270</td>\n",
       "      <td>Cancelled</td>\n",
       "      <td>54:57.9</td>\n",
       "      <td>NaN</td>\n",
       "      <td>13439</td>\n",
       "      <td>0284B24B-AD78-4A35-A975-900990B58427</td>\n",
       "      <td>F</td>\n",
       "      <td>E</td>\n",
       "      <td>S</td>\n",
       "      <td>Individual Only</td>\n",
       "      <td>44.0</td>\n",
       "      <td>00:00.0</td>\n",
       "      <td>00:00.0</td>\n",
       "      <td>100000.0</td>\n",
       "    </tr>\n",
       "    <tr>\n",
       "      <th>2</th>\n",
       "      <td>B7270</td>\n",
       "      <td>6</td>\n",
       "      <td>OKS00000037270</td>\n",
       "      <td>Cancelled</td>\n",
       "      <td>12:52.8</td>\n",
       "      <td>NaN</td>\n",
       "      <td>13439</td>\n",
       "      <td>CF7FD54D-4BD3-4B82-AFFC-8CBAB0308E12</td>\n",
       "      <td>F</td>\n",
       "      <td>E</td>\n",
       "      <td>S</td>\n",
       "      <td>Individual Only</td>\n",
       "      <td>29.0</td>\n",
       "      <td>00:00.0</td>\n",
       "      <td>00:00.0</td>\n",
       "      <td>50000.0</td>\n",
       "    </tr>\n",
       "    <tr>\n",
       "      <th>3</th>\n",
       "      <td>B7270</td>\n",
       "      <td>22</td>\n",
       "      <td>OKS00000377270</td>\n",
       "      <td>Accepted</td>\n",
       "      <td>09:04.1</td>\n",
       "      <td>40:01.5</td>\n",
       "      <td>16748</td>\n",
       "      <td>403ED25C-B261-40A6-9F39-CE2F2DCA8AF2</td>\n",
       "      <td>M</td>\n",
       "      <td>E</td>\n",
       "      <td>S</td>\n",
       "      <td>Individual Only</td>\n",
       "      <td>59.0</td>\n",
       "      <td>00:00.0</td>\n",
       "      <td>00:00.0</td>\n",
       "      <td>150000.0</td>\n",
       "    </tr>\n",
       "    <tr>\n",
       "      <th>4</th>\n",
       "      <td>B7270</td>\n",
       "      <td>44</td>\n",
       "      <td>OKS00002367270</td>\n",
       "      <td>Accepted</td>\n",
       "      <td>19:23.1</td>\n",
       "      <td>30:01.4</td>\n",
       "      <td>16790</td>\n",
       "      <td>5AF5B41A-AA6D-49AB-BC22-84BFB72FDFEC</td>\n",
       "      <td>M</td>\n",
       "      <td>E</td>\n",
       "      <td>S</td>\n",
       "      <td>Individual Only</td>\n",
       "      <td>59.0</td>\n",
       "      <td>00:00.0</td>\n",
       "      <td>00:00.0</td>\n",
       "      <td>150000.0</td>\n",
       "    </tr>\n",
       "  </tbody>\n",
       "</table>\n",
       "</div>"
      ],
      "text/plain": [
       "  CampaignID  Cust_id       Policy_no Sale_Status Sale_date Verified_Date  \\\n",
       "0      B7270        4  OKS00000017270   Cancelled   53:25.1           NaN   \n",
       "1      B7270        5  OKS00000027270   Cancelled   54:57.9           NaN   \n",
       "2      B7270        6  OKS00000037270   Cancelled   12:52.8           NaN   \n",
       "3      B7270       22  OKS00000377270    Accepted   09:04.1       40:01.5   \n",
       "4      B7270       44  OKS00002367270    Accepted   19:23.1       30:01.4   \n",
       "\n",
       "   Emp_ID                                 ID_No Sex Lang Marital_Status  \\\n",
       "0   13439  775C91B3-392A-4D74-860C-29A4D5189DF6   F    E              S   \n",
       "1   13439  0284B24B-AD78-4A35-A975-900990B58427   F    E              S   \n",
       "2   13439  CF7FD54D-4BD3-4B82-AFFC-8CBAB0308E12   F    E              S   \n",
       "3   16748  403ED25C-B261-40A6-9F39-CE2F2DCA8AF2   M    E              S   \n",
       "4   16790  5AF5B41A-AA6D-49AB-BC22-84BFB72FDFEC   M    E              S   \n",
       "\n",
       "   Family_To_Cover  Premium Effective_Date Date_of_Debit  Cover_Amount  \n",
       "0  Individual Only     59.0        00:00.0       00:00.0      150000.0  \n",
       "1  Individual Only     44.0        00:00.0       00:00.0      100000.0  \n",
       "2  Individual Only     29.0        00:00.0       00:00.0       50000.0  \n",
       "3  Individual Only     59.0        00:00.0       00:00.0      150000.0  \n",
       "4  Individual Only     59.0        00:00.0       00:00.0      150000.0  "
      ]
     },
     "execution_count": 26,
     "metadata": {},
     "output_type": "execute_result"
    }
   ],
   "source": [
    "# dropping Client_Title such as previous datasets, ImportedDate is missing most values, Not_Sale_Date is when an agent selects\n",
    "# a call result that is unverifiable, so that can't be helped much. EmailFulfillment is a binary column that just \n",
    "# represents if the client wants an email sent to them or not, which won't help us much either \n",
    "sales = pd.DataFrame.drop(sales, columns = [\"Client_title\", \"ImportedDate\", \"Not_Sale_Date\", \"EMailFulfilment\", \"Client_Surname\"])\n",
    "sales.head()"
   ]
  },
  {
   "cell_type": "code",
   "execution_count": 27,
   "id": "f43e866c",
   "metadata": {},
   "outputs": [
    {
     "data": {
      "text/html": [
       "<div>\n",
       "<style scoped>\n",
       "    .dataframe tbody tr th:only-of-type {\n",
       "        vertical-align: middle;\n",
       "    }\n",
       "\n",
       "    .dataframe tbody tr th {\n",
       "        vertical-align: top;\n",
       "    }\n",
       "\n",
       "    .dataframe thead th {\n",
       "        text-align: right;\n",
       "    }\n",
       "</style>\n",
       "<table border=\"1\" class=\"dataframe\">\n",
       "  <thead>\n",
       "    <tr style=\"text-align: right;\">\n",
       "      <th></th>\n",
       "      <th>Cust_id</th>\n",
       "      <th>Emp_ID</th>\n",
       "      <th>Premium</th>\n",
       "      <th>Cover_Amount</th>\n",
       "    </tr>\n",
       "  </thead>\n",
       "  <tbody>\n",
       "    <tr>\n",
       "      <th>count</th>\n",
       "      <td>152567.000000</td>\n",
       "      <td>152567.000000</td>\n",
       "      <td>152567.000000</td>\n",
       "      <td>1.498810e+05</td>\n",
       "    </tr>\n",
       "    <tr>\n",
       "      <th>mean</th>\n",
       "      <td>53459.665989</td>\n",
       "      <td>17289.850577</td>\n",
       "      <td>97.061014</td>\n",
       "      <td>2.289713e+05</td>\n",
       "    </tr>\n",
       "    <tr>\n",
       "      <th>std</th>\n",
       "      <td>67264.646943</td>\n",
       "      <td>1699.161942</td>\n",
       "      <td>49.861076</td>\n",
       "      <td>1.638579e+05</td>\n",
       "    </tr>\n",
       "    <tr>\n",
       "      <th>min</th>\n",
       "      <td>4.000000</td>\n",
       "      <td>1987.000000</td>\n",
       "      <td>-96.840000</td>\n",
       "      <td>0.000000e+00</td>\n",
       "    </tr>\n",
       "    <tr>\n",
       "      <th>25%</th>\n",
       "      <td>13736.000000</td>\n",
       "      <td>16691.000000</td>\n",
       "      <td>77.680000</td>\n",
       "      <td>1.500000e+05</td>\n",
       "    </tr>\n",
       "    <tr>\n",
       "      <th>50%</th>\n",
       "      <td>34230.000000</td>\n",
       "      <td>17283.000000</td>\n",
       "      <td>94.320000</td>\n",
       "      <td>2.500000e+05</td>\n",
       "    </tr>\n",
       "    <tr>\n",
       "      <th>75%</th>\n",
       "      <td>68817.500000</td>\n",
       "      <td>18204.000000</td>\n",
       "      <td>111.000000</td>\n",
       "      <td>3.000000e+05</td>\n",
       "    </tr>\n",
       "    <tr>\n",
       "      <th>max</th>\n",
       "      <td>482786.000000</td>\n",
       "      <td>21168.000000</td>\n",
       "      <td>689.760000</td>\n",
       "      <td>1.500000e+06</td>\n",
       "    </tr>\n",
       "  </tbody>\n",
       "</table>\n",
       "</div>"
      ],
      "text/plain": [
       "             Cust_id         Emp_ID        Premium  Cover_Amount\n",
       "count  152567.000000  152567.000000  152567.000000  1.498810e+05\n",
       "mean    53459.665989   17289.850577      97.061014  2.289713e+05\n",
       "std     67264.646943    1699.161942      49.861076  1.638579e+05\n",
       "min         4.000000    1987.000000     -96.840000  0.000000e+00\n",
       "25%     13736.000000   16691.000000      77.680000  1.500000e+05\n",
       "50%     34230.000000   17283.000000      94.320000  2.500000e+05\n",
       "75%     68817.500000   18204.000000     111.000000  3.000000e+05\n",
       "max    482786.000000   21168.000000     689.760000  1.500000e+06"
      ]
     },
     "execution_count": 27,
     "metadata": {},
     "output_type": "execute_result"
    }
   ],
   "source": [
    "sales.describe()"
   ]
  },
  {
   "cell_type": "code",
   "execution_count": 28,
   "id": "59288aa6",
   "metadata": {},
   "outputs": [
    {
     "name": "stdout",
     "output_type": "stream",
     "text": [
      "(152567, 16)\n",
      "(0, 16)\n"
     ]
    }
   ],
   "source": [
    "print(sales.shape)\n",
    "duplicate_rows_sales = sales[sales.duplicated()]\n",
    "\n",
    "print(duplicate_rows_sales.shape)"
   ]
  },
  {
   "cell_type": "code",
   "execution_count": 29,
   "id": "a8476cfa",
   "metadata": {},
   "outputs": [
    {
     "data": {
      "text/plain": [
       "0         OKS00000017270\n",
       "1         OKS00000027270\n",
       "2         OKS00000037270\n",
       "3         OKS00000377270\n",
       "4         OKS00002367270\n",
       "               ...      \n",
       "152562    OKS00000048461\n",
       "152563    OKS00000058461\n",
       "152564    OKS00000088461\n",
       "152565    OKS00000078461\n",
       "152566    OKS00000118461\n",
       "Name: Policy_no, Length: 152567, dtype: object"
      ]
     },
     "execution_count": 29,
     "metadata": {},
     "output_type": "execute_result"
    }
   ],
   "source": [
    "sales[\"Policy_no\"]"
   ]
  },
  {
   "cell_type": "code",
   "execution_count": 30,
   "id": "1c6257b8",
   "metadata": {},
   "outputs": [
    {
     "data": {
      "text/plain": [
       "<AxesSubplot:>"
      ]
     },
     "execution_count": 30,
     "metadata": {},
     "output_type": "execute_result"
    },
    {
     "data": {
      "image/png": "[encoded data removed]",
      "text/plain": [
       "<Figure size 1800x720 with 2 Axes>"
      ]
     },
     "metadata": {
      "needs_background": "light"
     },
     "output_type": "display_data"
    }
   ],
   "source": [
    "import missingno as msno\n",
    "\n",
    "msno.matrix(sales)"
   ]
  },
  {
   "cell_type": "code",
   "execution_count": 31,
   "id": "6ff25849",
   "metadata": {},
   "outputs": [
    {
     "data": {
      "text/plain": [
       "0         False\n",
       "1         False\n",
       "2         False\n",
       "3         False\n",
       "4         False\n",
       "          ...  \n",
       "152562    False\n",
       "152563    False\n",
       "152564    False\n",
       "152565    False\n",
       "152566    False\n",
       "Name: Cover_Amount, Length: 152567, dtype: bool"
      ]
     },
     "execution_count": 31,
     "metadata": {},
     "output_type": "execute_result"
    }
   ],
   "source": [
    "sales.Cover_Amount == 15000"
   ]
  },
  {
   "cell_type": "code",
   "execution_count": 41,
   "id": "50e5f897",
   "metadata": {},
   "outputs": [
    {
     "data": {
      "text/plain": [
       "array([    4,     5,     6, ..., 62651, 62711, 62727], dtype=int64)"
      ]
     },
     "execution_count": 41,
     "metadata": {},
     "output_type": "execute_result"
    }
   ],
   "source": [
    "sales[\"Cust_id\"].unique()"
   ]
  },
  {
   "cell_type": "code",
   "execution_count": 59,
   "id": "7b92060c",
   "metadata": {},
   "outputs": [],
   "source": [
    "sales.to_csv('Clean_ExportSales.csv', index = False)"
   ]
  },
  {
   "cell_type": "markdown",
   "id": "17d0d20d",
   "metadata": {},
   "source": [
    "# ExportCustomerDataHistoryDetail Dataset"
   ]
  },
  {
   "cell_type": "code",
   "execution_count": 32,
   "id": "798d6f44",
   "metadata": {},
   "outputs": [
    {
     "data": {
      "text/html": [
       "<div>\n",
       "<style scoped>\n",
       "    .dataframe tbody tr th:only-of-type {\n",
       "        vertical-align: middle;\n",
       "    }\n",
       "\n",
       "    .dataframe tbody tr th {\n",
       "        vertical-align: top;\n",
       "    }\n",
       "\n",
       "    .dataframe thead th {\n",
       "        text-align: right;\n",
       "    }\n",
       "</style>\n",
       "<table border=\"1\" class=\"dataframe\">\n",
       "  <thead>\n",
       "    <tr style=\"text-align: right;\">\n",
       "      <th></th>\n",
       "      <th>ID_No</th>\n",
       "      <th>Title</th>\n",
       "      <th>Surname</th>\n",
       "      <th>Product_Category</th>\n",
       "      <th>Benefit_Level</th>\n",
       "      <th>Cover_Level</th>\n",
       "      <th>Policy_Status</th>\n",
       "      <th>Inception_Date_As_Text</th>\n",
       "      <th>CancelledDate</th>\n",
       "      <th>HistoryID</th>\n",
       "      <th>InceptionDateCorrected</th>\n",
       "      <th>ImportedDate</th>\n",
       "    </tr>\n",
       "  </thead>\n",
       "  <tbody>\n",
       "    <tr>\n",
       "      <th>0</th>\n",
       "      <td>BE8925FE-B565-4BDB-946E-00000AE0DADC</td>\n",
       "      <td>Mr</td>\n",
       "      <td>XAYIMPI</td>\n",
       "      <td>Accidental Death And Permanent Disability</td>\n",
       "      <td>250000</td>\n",
       "      <td>Insured</td>\n",
       "      <td>C</td>\n",
       "      <td>06/06/2019</td>\n",
       "      <td>2019-06-07 00:00:00.000</td>\n",
       "      <td>1</td>\n",
       "      <td>2019-06-06 00:00:00.000</td>\n",
       "      <td>2021-09-28 14:02:27.377</td>\n",
       "    </tr>\n",
       "    <tr>\n",
       "      <th>1</th>\n",
       "      <td>BE8925FE-B565-4BDB-946E-00000AE0DADC</td>\n",
       "      <td>Mr</td>\n",
       "      <td>XAYIMPI</td>\n",
       "      <td>Hospital Plan</td>\n",
       "      <td>300</td>\n",
       "      <td>Insured And Spouse</td>\n",
       "      <td>C</td>\n",
       "      <td>03/24/2020</td>\n",
       "      <td>2020-03-25 00:00:00.000</td>\n",
       "      <td>2</td>\n",
       "      <td>2020-03-24 00:00:00.000</td>\n",
       "      <td>2021-09-28 14:02:27.377</td>\n",
       "    </tr>\n",
       "    <tr>\n",
       "      <th>2</th>\n",
       "      <td>C569C08D-DA88-48DC-BCBC-00001D74FCD8</td>\n",
       "      <td>Mrs</td>\n",
       "      <td>MOSIA</td>\n",
       "      <td>Accidental Death And Permanent Disability</td>\n",
       "      <td>300000</td>\n",
       "      <td>Insured</td>\n",
       "      <td>C</td>\n",
       "      <td>2017/09/26</td>\n",
       "      <td>2017-09-27 00:00:00.000</td>\n",
       "      <td>3</td>\n",
       "      <td>2017-09-26 00:00:00.000</td>\n",
       "      <td>2021-09-28 14:02:27.377</td>\n",
       "    </tr>\n",
       "    <tr>\n",
       "      <th>3</th>\n",
       "      <td>C569C08D-DA88-48DC-BCBC-00001D74FCD8</td>\n",
       "      <td>Mrs</td>\n",
       "      <td>MOSIA</td>\n",
       "      <td>Accidental Death And Permanent Disability</td>\n",
       "      <td>250000</td>\n",
       "      <td>Insured</td>\n",
       "      <td>C</td>\n",
       "      <td>04/04/2019</td>\n",
       "      <td>2019-04-05 00:00:00.000</td>\n",
       "      <td>4</td>\n",
       "      <td>2019-04-04 00:00:00.000</td>\n",
       "      <td>2021-09-28 14:02:27.377</td>\n",
       "    </tr>\n",
       "    <tr>\n",
       "      <th>4</th>\n",
       "      <td>F36FD960-C4F4-4736-8513-0000423F7BAF</td>\n",
       "      <td>Mrs</td>\n",
       "      <td>NKABINDE</td>\n",
       "      <td>Accidental Death And Permanent Disability</td>\n",
       "      <td>250000</td>\n",
       "      <td>Insured</td>\n",
       "      <td>A</td>\n",
       "      <td>10/09/2020</td>\n",
       "      <td>NaN</td>\n",
       "      <td>5</td>\n",
       "      <td>2020-10-09 00:00:00.000</td>\n",
       "      <td>2021-09-28 14:02:27.377</td>\n",
       "    </tr>\n",
       "  </tbody>\n",
       "</table>\n",
       "</div>"
      ],
      "text/plain": [
       "                                  ID_No Title   Surname  \\\n",
       "0  BE8925FE-B565-4BDB-946E-00000AE0DADC    Mr   XAYIMPI   \n",
       "1  BE8925FE-B565-4BDB-946E-00000AE0DADC    Mr   XAYIMPI   \n",
       "2  C569C08D-DA88-48DC-BCBC-00001D74FCD8   Mrs     MOSIA   \n",
       "3  C569C08D-DA88-48DC-BCBC-00001D74FCD8   Mrs     MOSIA   \n",
       "4  F36FD960-C4F4-4736-8513-0000423F7BAF   Mrs  NKABINDE   \n",
       "\n",
       "                            Product_Category Benefit_Level  \\\n",
       "0  Accidental Death And Permanent Disability        250000   \n",
       "1                              Hospital Plan           300   \n",
       "2  Accidental Death And Permanent Disability        300000   \n",
       "3  Accidental Death And Permanent Disability        250000   \n",
       "4  Accidental Death And Permanent Disability        250000   \n",
       "\n",
       "          Cover_Level Policy_Status Inception_Date_As_Text  \\\n",
       "0             Insured             C             06/06/2019   \n",
       "1  Insured And Spouse             C             03/24/2020   \n",
       "2             Insured             C             2017/09/26   \n",
       "3             Insured             C             04/04/2019   \n",
       "4             Insured             A             10/09/2020   \n",
       "\n",
       "             CancelledDate  HistoryID   InceptionDateCorrected  \\\n",
       "0  2019-06-07 00:00:00.000          1  2019-06-06 00:00:00.000   \n",
       "1  2020-03-25 00:00:00.000          2  2020-03-24 00:00:00.000   \n",
       "2  2017-09-27 00:00:00.000          3  2017-09-26 00:00:00.000   \n",
       "3  2019-04-05 00:00:00.000          4  2019-04-04 00:00:00.000   \n",
       "4                      NaN          5  2020-10-09 00:00:00.000   \n",
       "\n",
       "              ImportedDate  \n",
       "0  2021-09-28 14:02:27.377  \n",
       "1  2021-09-28 14:02:27.377  \n",
       "2  2021-09-28 14:02:27.377  \n",
       "3  2021-09-28 14:02:27.377  \n",
       "4  2021-09-28 14:02:27.377  "
      ]
     },
     "execution_count": 32,
     "metadata": {},
     "output_type": "execute_result"
    }
   ],
   "source": [
    "cd_history_detail.head()"
   ]
  },
  {
   "cell_type": "code",
   "execution_count": 33,
   "id": "94341c8e",
   "metadata": {},
   "outputs": [
    {
     "name": "stdout",
     "output_type": "stream",
     "text": [
      "(752542, 12)\n"
     ]
    }
   ],
   "source": [
    "cd_history_detail.isnull().any()\n",
    "print(cd_history_detail.shape)"
   ]
  },
  {
   "cell_type": "code",
   "execution_count": 34,
   "id": "c3c88753",
   "metadata": {},
   "outputs": [
    {
     "data": {
      "text/plain": [
       "ID_No                          0\n",
       "Title                          0\n",
       "Surname                      229\n",
       "Product_Category               0\n",
       "Benefit_Level                  6\n",
       "Cover_Level                    0\n",
       "Policy_Status                  0\n",
       "Inception_Date_As_Text         1\n",
       "CancelledDate             357812\n",
       "HistoryID                      0\n",
       "InceptionDateCorrected         1\n",
       "ImportedDate                   0\n",
       "dtype: int64"
      ]
     },
     "execution_count": 34,
     "metadata": {},
     "output_type": "execute_result"
    }
   ],
   "source": [
    "cd_history_detail.isnull().sum()"
   ]
  },
  {
   "cell_type": "code",
   "execution_count": 35,
   "id": "61491250",
   "metadata": {},
   "outputs": [],
   "source": [
    "cd_history_detail = pd.DataFrame.drop(cd_history_detail, columns = [\"Title\", \"Surname\", \"Inception_Date_As_Text\"])"
   ]
  },
  {
   "cell_type": "code",
   "execution_count": 36,
   "id": "9b2dd0e4",
   "metadata": {},
   "outputs": [
    {
     "data": {
      "text/html": [
       "<div>\n",
       "<style scoped>\n",
       "    .dataframe tbody tr th:only-of-type {\n",
       "        vertical-align: middle;\n",
       "    }\n",
       "\n",
       "    .dataframe tbody tr th {\n",
       "        vertical-align: top;\n",
       "    }\n",
       "\n",
       "    .dataframe thead th {\n",
       "        text-align: right;\n",
       "    }\n",
       "</style>\n",
       "<table border=\"1\" class=\"dataframe\">\n",
       "  <thead>\n",
       "    <tr style=\"text-align: right;\">\n",
       "      <th></th>\n",
       "      <th>ID_No</th>\n",
       "      <th>Product_Category</th>\n",
       "      <th>Benefit_Level</th>\n",
       "      <th>Cover_Level</th>\n",
       "      <th>Policy_Status</th>\n",
       "      <th>CancelledDate</th>\n",
       "      <th>HistoryID</th>\n",
       "      <th>InceptionDateCorrected</th>\n",
       "      <th>ImportedDate</th>\n",
       "    </tr>\n",
       "  </thead>\n",
       "  <tbody>\n",
       "    <tr>\n",
       "      <th>0</th>\n",
       "      <td>BE8925FE-B565-4BDB-946E-00000AE0DADC</td>\n",
       "      <td>Accidental Death And Permanent Disability</td>\n",
       "      <td>250000</td>\n",
       "      <td>Insured</td>\n",
       "      <td>C</td>\n",
       "      <td>2019-06-07 00:00:00.000</td>\n",
       "      <td>1</td>\n",
       "      <td>2019-06-06 00:00:00.000</td>\n",
       "      <td>2021-09-28 14:02:27.377</td>\n",
       "    </tr>\n",
       "    <tr>\n",
       "      <th>1</th>\n",
       "      <td>BE8925FE-B565-4BDB-946E-00000AE0DADC</td>\n",
       "      <td>Hospital Plan</td>\n",
       "      <td>300</td>\n",
       "      <td>Insured And Spouse</td>\n",
       "      <td>C</td>\n",
       "      <td>2020-03-25 00:00:00.000</td>\n",
       "      <td>2</td>\n",
       "      <td>2020-03-24 00:00:00.000</td>\n",
       "      <td>2021-09-28 14:02:27.377</td>\n",
       "    </tr>\n",
       "    <tr>\n",
       "      <th>2</th>\n",
       "      <td>C569C08D-DA88-48DC-BCBC-00001D74FCD8</td>\n",
       "      <td>Accidental Death And Permanent Disability</td>\n",
       "      <td>300000</td>\n",
       "      <td>Insured</td>\n",
       "      <td>C</td>\n",
       "      <td>2017-09-27 00:00:00.000</td>\n",
       "      <td>3</td>\n",
       "      <td>2017-09-26 00:00:00.000</td>\n",
       "      <td>2021-09-28 14:02:27.377</td>\n",
       "    </tr>\n",
       "    <tr>\n",
       "      <th>3</th>\n",
       "      <td>C569C08D-DA88-48DC-BCBC-00001D74FCD8</td>\n",
       "      <td>Accidental Death And Permanent Disability</td>\n",
       "      <td>250000</td>\n",
       "      <td>Insured</td>\n",
       "      <td>C</td>\n",
       "      <td>2019-04-05 00:00:00.000</td>\n",
       "      <td>4</td>\n",
       "      <td>2019-04-04 00:00:00.000</td>\n",
       "      <td>2021-09-28 14:02:27.377</td>\n",
       "    </tr>\n",
       "    <tr>\n",
       "      <th>4</th>\n",
       "      <td>F36FD960-C4F4-4736-8513-0000423F7BAF</td>\n",
       "      <td>Accidental Death And Permanent Disability</td>\n",
       "      <td>250000</td>\n",
       "      <td>Insured</td>\n",
       "      <td>A</td>\n",
       "      <td>NaN</td>\n",
       "      <td>5</td>\n",
       "      <td>2020-10-09 00:00:00.000</td>\n",
       "      <td>2021-09-28 14:02:27.377</td>\n",
       "    </tr>\n",
       "  </tbody>\n",
       "</table>\n",
       "</div>"
      ],
      "text/plain": [
       "                                  ID_No  \\\n",
       "0  BE8925FE-B565-4BDB-946E-00000AE0DADC   \n",
       "1  BE8925FE-B565-4BDB-946E-00000AE0DADC   \n",
       "2  C569C08D-DA88-48DC-BCBC-00001D74FCD8   \n",
       "3  C569C08D-DA88-48DC-BCBC-00001D74FCD8   \n",
       "4  F36FD960-C4F4-4736-8513-0000423F7BAF   \n",
       "\n",
       "                            Product_Category Benefit_Level  \\\n",
       "0  Accidental Death And Permanent Disability        250000   \n",
       "1                              Hospital Plan           300   \n",
       "2  Accidental Death And Permanent Disability        300000   \n",
       "3  Accidental Death And Permanent Disability        250000   \n",
       "4  Accidental Death And Permanent Disability        250000   \n",
       "\n",
       "          Cover_Level Policy_Status            CancelledDate  HistoryID  \\\n",
       "0             Insured             C  2019-06-07 00:00:00.000          1   \n",
       "1  Insured And Spouse             C  2020-03-25 00:00:00.000          2   \n",
       "2             Insured             C  2017-09-27 00:00:00.000          3   \n",
       "3             Insured             C  2019-04-05 00:00:00.000          4   \n",
       "4             Insured             A                      NaN          5   \n",
       "\n",
       "    InceptionDateCorrected             ImportedDate  \n",
       "0  2019-06-06 00:00:00.000  2021-09-28 14:02:27.377  \n",
       "1  2020-03-24 00:00:00.000  2021-09-28 14:02:27.377  \n",
       "2  2017-09-26 00:00:00.000  2021-09-28 14:02:27.377  \n",
       "3  2019-04-04 00:00:00.000  2021-09-28 14:02:27.377  \n",
       "4  2020-10-09 00:00:00.000  2021-09-28 14:02:27.377  "
      ]
     },
     "execution_count": 36,
     "metadata": {},
     "output_type": "execute_result"
    }
   ],
   "source": [
    "cd_history_detail.head()"
   ]
  },
  {
   "cell_type": "code",
   "execution_count": 60,
   "id": "03bdb674",
   "metadata": {},
   "outputs": [],
   "source": [
    "cd_history_detail.to_csv('Clean_ExportCustomerDataHistoryDetail.csv', index = False)"
   ]
  },
  {
   "cell_type": "code",
   "execution_count": 3,
   "id": "bbd03487",
   "metadata": {},
   "outputs": [],
   "source": [
    "cd_detail_additional = pd.read_csv('ExportCustomerDetailAdditional.csv', low_memory = False)"
   ]
  },
  {
   "cell_type": "code",
   "execution_count": 4,
   "id": "4f5aef43",
   "metadata": {},
   "outputs": [
    {
     "data": {
      "text/plain": [
       "(4733543, 22)"
      ]
     },
     "execution_count": 4,
     "metadata": {},
     "output_type": "execute_result"
    }
   ],
   "source": [
    "cd_detail_additional.shape"
   ]
  },
  {
   "cell_type": "code",
   "execution_count": 5,
   "id": "2640c0ee",
   "metadata": {},
   "outputs": [
    {
     "data": {
      "text/plain": [
       "CampaignID                    0\n",
       "cust_id                       0\n",
       "SuggestedPlan           3577924\n",
       "ClientBehaviour         2756896\n",
       "BankAccountIndicator    4733543\n",
       "ClientAccountNumber     4733543\n",
       "Percentile_TakeUp       4285780\n",
       "Percentile_Survival     4285780\n",
       "StopSMS                 1891964\n",
       "avg_est_income          3108042\n",
       "cust_od_lim_count       4176283\n",
       "cust_od_lim_sum         4731834\n",
       "avg_bal_01              3100332\n",
       "avg_bal_avail           3029596\n",
       "marital_status          3046159\n",
       "derived_age             3029596\n",
       "Salary_date             3452306\n",
       "confidence              4375929\n",
       "date_range              4413258\n",
       "wage_earner             3312835\n",
       "day_of_week             4713135\n",
       "ImportedDate            4614426\n",
       "dtype: int64"
      ]
     },
     "execution_count": 5,
     "metadata": {},
     "output_type": "execute_result"
    }
   ],
   "source": [
    "cd_detail_additional.isnull().sum()"
   ]
  },
  {
   "cell_type": "code",
   "execution_count": null,
   "id": "11362a3d",
   "metadata": {},
   "outputs": [],
   "source": []
  }
 ],
 "metadata": {
  "kernelspec": {
   "display_name": "Python 3",
   "language": "python",
   "name": "python3"
  },
  "language_info": {
   "codemirror_mode": {
    "name": "ipython",
    "version": 3
   },
   "file_extension": ".py",
   "mimetype": "text/x-python",
   "name": "python",
   "nbconvert_exporter": "python",
   "pygments_lexer": "ipython3",
   "version": "3.8.8"
  }
 },
 "nbformat": 4,
 "nbformat_minor": 5
}
